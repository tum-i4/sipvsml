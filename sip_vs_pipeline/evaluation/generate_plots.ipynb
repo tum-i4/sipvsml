{
 "cells": [
  {
   "cell_type": "code",
   "execution_count": 10,
   "metadata": {},
   "outputs": [
    {
     "name": "stdout",
     "output_type": "stream",
     "text": [
      "The autoreload extension is already loaded. To reload it, use:\n",
      "  %reload_ext autoreload\n"
     ]
    }
   ],
   "source": [
    "%load_ext autoreload\n",
    "%autoreload 2\n",
    "\n",
    "import pathlib\n",
    "\n",
    "from generate_plots import find_results_json_files, reconcile_results_into_dataframe"
   ]
  },
  {
   "cell_type": "code",
   "execution_count": 11,
   "metadata": {},
   "outputs": [],
   "source": [
    "labeled_bc_dir = pathlib.Path('/media/nika/Data/sip_dataset/LABELED-BCs')\n",
    "\n",
    "df = reconcile_results_into_dataframe(find_results_json_files(labeled_bc_dir))"
   ]
  },
  {
   "cell_type": "code",
   "execution_count": 13,
   "metadata": {},
   "outputs": [
    {
     "data": {
      "text/html": [
       "<div>\n",
       "<style scoped>\n",
       "    .dataframe tbody tr th:only-of-type {\n",
       "        vertical-align: middle;\n",
       "    }\n",
       "\n",
       "    .dataframe tbody tr th {\n",
       "        vertical-align: top;\n",
       "    }\n",
       "\n",
       "    .dataframe thead th {\n",
       "        text-align: right;\n",
       "    }\n",
       "</style>\n",
       "<table border=\"1\" class=\"dataframe\">\n",
       "  <thead>\n",
       "    <tr style=\"text-align: right;\">\n",
       "      <th></th>\n",
       "      <th>data_source</th>\n",
       "      <th>obfuscation</th>\n",
       "      <th>features</th>\n",
       "      <th>sc_guard</th>\n",
       "      <th>cfi_verify</th>\n",
       "      <th>oh_verify</th>\n",
       "      <th>none</th>\n",
       "    </tr>\n",
       "  </thead>\n",
       "  <tbody>\n",
       "    <tr>\n",
       "      <th>0</th>\n",
       "      <td>simple-cov</td>\n",
       "      <td>SUB</td>\n",
       "      <td>code2vec</td>\n",
       "      <td>0.640000</td>\n",
       "      <td>0.707483</td>\n",
       "      <td>0.764331</td>\n",
       "      <td>0.952797</td>\n",
       "    </tr>\n",
       "    <tr>\n",
       "      <th>1</th>\n",
       "      <td>simple-cov</td>\n",
       "      <td>SUB</td>\n",
       "      <td>code2vec</td>\n",
       "      <td>0.800000</td>\n",
       "      <td>0.986301</td>\n",
       "      <td>0.830450</td>\n",
       "      <td>0.978386</td>\n",
       "    </tr>\n",
       "    <tr>\n",
       "      <th>2</th>\n",
       "      <td>simple-cov</td>\n",
       "      <td>SUB</td>\n",
       "      <td>code2vec</td>\n",
       "      <td>0.857143</td>\n",
       "      <td>0.967742</td>\n",
       "      <td>0.808511</td>\n",
       "      <td>0.979932</td>\n",
       "    </tr>\n",
       "    <tr>\n",
       "      <th>3</th>\n",
       "      <td>simple-cov</td>\n",
       "      <td>SUB</td>\n",
       "      <td>code2vec</td>\n",
       "      <td>1.000000</td>\n",
       "      <td>0.954733</td>\n",
       "      <td>0.850877</td>\n",
       "      <td>0.985384</td>\n",
       "    </tr>\n",
       "    <tr>\n",
       "      <th>4</th>\n",
       "      <td>simple-cov</td>\n",
       "      <td>SUB</td>\n",
       "      <td>code2vec</td>\n",
       "      <td>0.853659</td>\n",
       "      <td>0.971429</td>\n",
       "      <td>0.925065</td>\n",
       "      <td>0.987358</td>\n",
       "    </tr>\n",
       "  </tbody>\n",
       "</table>\n",
       "</div>"
      ],
      "text/plain": [
       "  data_source obfuscation  features  sc_guard  cfi_verify  oh_verify      none\n",
       "0  simple-cov         SUB  code2vec  0.640000    0.707483   0.764331  0.952797\n",
       "1  simple-cov         SUB  code2vec  0.800000    0.986301   0.830450  0.978386\n",
       "2  simple-cov         SUB  code2vec  0.857143    0.967742   0.808511  0.979932\n",
       "3  simple-cov         SUB  code2vec  1.000000    0.954733   0.850877  0.985384\n",
       "4  simple-cov         SUB  code2vec  0.853659    0.971429   0.925065  0.987358"
      ]
     },
     "execution_count": 13,
     "metadata": {},
     "output_type": "execute_result"
    }
   ],
   "source": [
    "df"
   ]
  },
  {
   "cell_type": "code",
   "execution_count": 19,
   "metadata": {},
   "outputs": [
    {
     "data": {
      "text/html": [
       "<div>\n",
       "<style scoped>\n",
       "    .dataframe tbody tr th:only-of-type {\n",
       "        vertical-align: middle;\n",
       "    }\n",
       "\n",
       "    .dataframe tbody tr th {\n",
       "        vertical-align: top;\n",
       "    }\n",
       "\n",
       "    .dataframe thead tr th {\n",
       "        text-align: left;\n",
       "    }\n",
       "\n",
       "    .dataframe thead tr:last-of-type th {\n",
       "        text-align: right;\n",
       "    }\n",
       "</style>\n",
       "<table border=\"1\" class=\"dataframe\">\n",
       "  <thead>\n",
       "    <tr>\n",
       "      <th></th>\n",
       "      <th></th>\n",
       "      <th></th>\n",
       "      <th colspan=\"2\" halign=\"left\">none</th>\n",
       "      <th colspan=\"2\" halign=\"left\">sc_guard</th>\n",
       "      <th colspan=\"2\" halign=\"left\">cfi_verify</th>\n",
       "      <th colspan=\"2\" halign=\"left\">oh_verify</th>\n",
       "    </tr>\n",
       "    <tr>\n",
       "      <th></th>\n",
       "      <th></th>\n",
       "      <th></th>\n",
       "      <th>mean</th>\n",
       "      <th>std</th>\n",
       "      <th>mean</th>\n",
       "      <th>std</th>\n",
       "      <th>mean</th>\n",
       "      <th>std</th>\n",
       "      <th>mean</th>\n",
       "      <th>std</th>\n",
       "    </tr>\n",
       "    <tr>\n",
       "      <th>data_source</th>\n",
       "      <th>obfuscation</th>\n",
       "      <th>features</th>\n",
       "      <th></th>\n",
       "      <th></th>\n",
       "      <th></th>\n",
       "      <th></th>\n",
       "      <th></th>\n",
       "      <th></th>\n",
       "      <th></th>\n",
       "      <th></th>\n",
       "    </tr>\n",
       "  </thead>\n",
       "  <tbody>\n",
       "    <tr>\n",
       "      <th>simple-cov</th>\n",
       "      <th>SUB</th>\n",
       "      <th>code2vec</th>\n",
       "      <td>0.976771</td>\n",
       "      <td>0.013907</td>\n",
       "      <td>0.83016</td>\n",
       "      <td>0.129611</td>\n",
       "      <td>0.917537</td>\n",
       "      <td>0.117961</td>\n",
       "      <td>0.835847</td>\n",
       "      <td>0.059322</td>\n",
       "    </tr>\n",
       "  </tbody>\n",
       "</table>\n",
       "</div>"
      ],
      "text/plain": [
       "                                      none           sc_guard            \\\n",
       "                                      mean       std     mean       std   \n",
       "data_source obfuscation features                                          \n",
       "simple-cov  SUB         code2vec  0.976771  0.013907  0.83016  0.129611   \n",
       "\n",
       "                                 cfi_verify           oh_verify            \n",
       "                                       mean       std      mean       std  \n",
       "data_source obfuscation features                                           \n",
       "simple-cov  SUB         code2vec   0.917537  0.117961  0.835847  0.059322  "
      ]
     },
     "execution_count": 19,
     "metadata": {},
     "output_type": "execute_result"
    }
   ],
   "source": [
    "df.groupby(['data_source', 'obfuscation', 'features'])\\\n",
    "    .agg({'none': ['mean', 'std'], 'sc_guard': ['mean', 'std'], 'cfi_verify': ['mean', 'std'], 'oh_verify': ['mean', 'std']})"
   ]
  },
  {
   "cell_type": "code",
   "execution_count": null,
   "metadata": {},
   "outputs": [],
   "source": []
  }
 ],
 "metadata": {
  "kernelspec": {
   "display_name": "Python 3",
   "language": "python",
   "name": "python3"
  },
  "language_info": {
   "codemirror_mode": {
    "name": "ipython",
    "version": 3
   },
   "file_extension": ".py",
   "mimetype": "text/x-python",
   "name": "python",
   "nbconvert_exporter": "python",
   "pygments_lexer": "ipython3",
   "version": "3.8.5"
  }
 },
 "nbformat": 4,
 "nbformat_minor": 1
}
