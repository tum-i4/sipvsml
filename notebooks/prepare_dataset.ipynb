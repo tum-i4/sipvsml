{
 "cells": [
  {
   "cell_type": "code",
   "execution_count": 1,
   "metadata": {},
   "outputs": [],
   "source": [
    "import pathlib\n",
    "import os\n",
    "import subprocess\n",
    "import shutil\n",
    "from concurrent.futures import ThreadPoolExecutor\n",
    "from tqdm import tqdm"
   ]
  },
  {
   "cell_type": "code",
   "execution_count": 2,
   "metadata": {},
   "outputs": [],
   "source": [
    "data_dir = pathlib.Path('D:\\\\paperback\\\\LABELED-BCs\\\\simple-cov\\\\')"
   ]
  },
  {
   "cell_type": "code",
   "execution_count": 13,
   "metadata": {},
   "outputs": [],
   "source": [
    "out_dir = pathlib.Path('../data')\n",
    "os.makedirs(out_dir, exist_ok=True)"
   ]
  },
  {
   "cell_type": "code",
   "execution_count": 4,
   "metadata": {},
   "outputs": [],
   "source": [
    "def get_bc_program_paths(data_dir):\n",
    "    for par_dir in data_dir.iterdir():\n",
    "        for file in par_dir.iterdir():\n",
    "            if str(file).endswith('.bc'):\n",
    "                yield file"
   ]
  },
  {
   "cell_type": "code",
   "execution_count": null,
   "metadata": {},
   "outputs": [],
   "source": [
    "for bc_path in tqdm(get_bc_program_paths(data_dir)):\n",
    "    program_name = bc_path.name.split('-')[0]\n",
    "    out_program_dir = out_dir / program_name\n",
    "    os.makedirs(out_program_dir, exist_ok=True)\n",
    "    out_file_path = out_program_dir / bc_path.name\n",
    "    shutil.copyfile(bc_path, out_file_path)"
   ]
  },
  {
   "cell_type": "code",
   "execution_count": 9,
   "metadata": {},
   "outputs": [],
   "source": [
    "def create_vector_embedding(bc_path, p_bar):\n",
    "    out_path = bc_path.with_suffix('.vec')\n",
    "    if out_path.exists():\n",
    "        p_bar.update(1)\n",
    "        return\n",
    "    cmd = [\n",
    "        '/mnt/c/Users/dogho/Desktop/Thesis/IRToVec/bin/ir2vec',\n",
    "        '-sym',\n",
    "        '-vocab',\n",
    "        '/mnt/c/Users/dogho/Desktop/Thesis/IRToVec/IR2Vec/vocabulary/seedEmbeddingVocab-300-llvm10.txt',\n",
    "        '-o',\n",
    "        str(out_path.absolute()),\n",
    "        '-level p',\n",
    "        str(bc_path.absolute())\n",
    "    ]\n",
    "    resp = os.system(' '.join(cmd))\n",
    "    p_bar.update(1)\n",
    "    assert resp == 0"
   ]
  },
  {
   "cell_type": "code",
   "execution_count": 14,
   "metadata": {},
   "outputs": [
    {
     "name": "stderr",
     "output_type": "stream",
     "text": [
      "100%|██████████| 2560/2560 [00:00<00:00, 2619.41it/s]\n"
     ]
    }
   ],
   "source": [
    "bc_program_paths = list(get_bc_program_paths(out_dir))\n",
    "                       \n",
    "with tqdm(total=len(bc_program_paths)) as p_bar:\n",
    "    with ThreadPoolExecutor(max_workers=32) as pool:\n",
    "        for bc_path in bc_program_paths:\n",
    "            pool.submit(create_vector_embedding, bc_path, p_bar)"
   ]
  }
 ],
 "metadata": {
  "kernelspec": {
   "display_name": "Python 3",
   "language": "python",
   "name": "python3"
  },
  "language_info": {
   "codemirror_mode": {
    "name": "ipython",
    "version": 3
   },
   "file_extension": ".py",
   "mimetype": "text/x-python",
   "name": "python",
   "nbconvert_exporter": "python",
   "pygments_lexer": "ipython3",
   "version": "3.8.3"
  }
 },
 "nbformat": 4,
 "nbformat_minor": 4
}
